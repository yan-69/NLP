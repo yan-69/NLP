{
  "nbformat": 4,
  "nbformat_minor": 0,
  "metadata": {
    "colab": {
      "name": "Review_Sentiment_Classification.ipynb",
      "provenance": [],
      "private_outputs": true,
      "collapsed_sections": [],
      "authorship_tag": "ABX9TyNG4E+kJFM4yHkUGxhLLWx2",
      "include_colab_link": true
    },
    "kernelspec": {
      "name": "python3",
      "display_name": "Python 3"
    },
    "accelerator": "GPU"
  },
  "cells": [
    {
      "cell_type": "markdown",
      "metadata": {
        "id": "view-in-github",
        "colab_type": "text"
      },
      "source": [
        "<a href=\"https://colab.research.google.com/github/yan-69/NLP/blob/master/Review_Sentiment_Classification.ipynb\" target=\"_parent\"><img src=\"https://colab.research.google.com/assets/colab-badge.svg\" alt=\"Open In Colab\"/></a>"
      ]
    },
    {
      "cell_type": "code",
      "metadata": {
        "id": "oAzJ4qsmvqYC",
        "colab_type": "code",
        "colab": {}
      },
      "source": [
        "import numpy as np\n",
        "import tensorflow as tf\n",
        "import tensorflow_hub as hub\n",
        "import tensorflow_datasets as tfds\n",
        "import matplotlib.pyplot as plt\n",
        "\n",
        "print(\"GPU is \", \"on\" if tf.config.list_physical_devices('GPU') else \"off\")\n"
      ],
      "execution_count": null,
      "outputs": []
    },
    {
      "cell_type": "code",
      "metadata": {
        "id": "WlVBNt1Ww_FE",
        "colab_type": "code",
        "colab": {}
      },
      "source": [
        "dev_data , test_data = tfds.load(name = 'imdb_reviews' , split = [ \"train\" , \"test\"] , batch_size = -1 , as_supervised=True)\n",
        "\n",
        "dev_examples , dev_label = tfds.as_numpy(dev_data)\n",
        "test_examples , test_label = tfds.as_numpy(test_data)\n",
        "\n",
        "print(dev_examples[:5])\n",
        "print(dev_label[:5])"
      ],
      "execution_count": null,
      "outputs": []
    },
    {
      "cell_type": "code",
      "metadata": {
        "id": "WFklaa0PzxAk",
        "colab_type": "code",
        "colab": {}
      },
      "source": [
        "print(\"dev_set contain {} examples and test_set contain {} examples\" .format(len(dev_examples),len(test_examples)))"
      ],
      "execution_count": null,
      "outputs": []
    },
    {
      "cell_type": "code",
      "metadata": {
        "id": "exl2NcDr056S",
        "colab_type": "code",
        "colab": {}
      },
      "source": [
        "model = \"https://tfhub.dev/google/tf2-preview/gnews-swivel-20dim/1\"\n",
        "\n",
        "\n",
        "hub_layer = hub.KerasLayer(model , output_shape = [20] , input_shape =[] ,dtype = tf.string ,trainable = True )\n",
        "\n",
        "hub_layer(dev_examples[:2])"
      ],
      "execution_count": null,
      "outputs": []
    },
    {
      "cell_type": "code",
      "metadata": {
        "id": "K2E8gpsG2SSt",
        "colab_type": "code",
        "colab": {}
      },
      "source": [
        "model = tf.keras.Sequential()\n",
        "model.add(hub_layer)\n",
        "model.add(tf.keras.layers.Bidirectional(tf.keras.layers.LSTM(64,  return_sequences=True)))\n",
        "model.add(tf.keras.layers.Bidirectional(tf.keras.layers.LSTM(32)))\n",
        "model.add(tf.keras.layers.Dense(128 , activation ='relu'))\n",
        "model.add(tf.keras.layers.Dense(1))\n",
        "\n",
        "model.summary()\n"
      ],
      "execution_count": null,
      "outputs": []
    },
    {
      "cell_type": "code",
      "metadata": {
        "id": "a8LWJuLp7lLa",
        "colab_type": "code",
        "colab": {}
      },
      "source": [
        "model.compile(\n",
        "    optimizer = 'adam',\n",
        "    loss = tf.keras.losses.BinaryCrossentropy(from_logits = True),\n",
        "    metrics =[tf.metrics.BinaryAccuracy(threshold = 0.0 , name ='accuracy')]\n",
        ")"
      ],
      "execution_count": null,
      "outputs": []
    },
    {
      "cell_type": "code",
      "metadata": {
        "id": "qEmV5dM78PHN",
        "colab_type": "code",
        "colab": {}
      },
      "source": [
        "val_examples = dev_examples[:10000]\n",
        "dev_train = dev_examples[10000:]\n",
        "val_labels = dev_label[:10000]\n",
        "dev_train_labels = dev_label[10000:]"
      ],
      "execution_count": null,
      "outputs": []
    },
    {
      "cell_type": "code",
      "metadata": {
        "id": "CgXqinwQ9Ech",
        "colab_type": "code",
        "colab": {}
      },
      "source": [
        "history = model.fit(\n",
        "    dev_train,dev_train_labels,batch_size = 512 ,epochs = 40 , verbose = 1 ,validation_data = (val_examples,val_labels)\n",
        ")"
      ],
      "execution_count": null,
      "outputs": []
    },
    {
      "cell_type": "code",
      "metadata": {
        "id": "zUeq46jP9vUu",
        "colab_type": "code",
        "colab": {}
      },
      "source": [
        "result = model.evaluate(test_examples,test_label)\n",
        "\n",
        "print(result)"
      ],
      "execution_count": null,
      "outputs": []
    },
    {
      "cell_type": "code",
      "metadata": {
        "id": "rNimi8oJ-e4C",
        "colab_type": "code",
        "colab": {}
      },
      "source": [
        "history_dict = history.history\n",
        "history_dict.keys()"
      ],
      "execution_count": null,
      "outputs": []
    },
    {
      "cell_type": "code",
      "metadata": {
        "id": "UjZUGysL_PHg",
        "colab_type": "code",
        "colab": {},
        "cellView": "code"
      },
      "source": [
        "\n",
        "loss = history_dict['loss']\n",
        "accuracy = history_dict['accuracy']\n",
        "val_loss = history_dict['val_loss']\n",
        "val_accuracy = history_dict['val_accuracy']\n",
        "\n",
        "epochs = range(1,len(accuracy)+1)\n",
        "plt.plot(epochs , loss , 'b' , label = 'Training loss')\n",
        "plt.plot(epochs , val_loss , 'r' , label = 'Validation loss')\n",
        "plt.xlabel('Epochs')\n",
        "plt.ylabel('Loss')\n",
        "plt.legend()\n",
        "plt.show()"
      ],
      "execution_count": null,
      "outputs": []
    },
    {
      "cell_type": "code",
      "metadata": {
        "id": "7WgLKtR0Am8b",
        "colab_type": "code",
        "colab": {}
      },
      "source": [
        "plt.clf()"
      ],
      "execution_count": null,
      "outputs": []
    },
    {
      "cell_type": "code",
      "metadata": {
        "id": "0E2gQEczBZw7",
        "colab_type": "code",
        "colab": {}
      },
      "source": [
        ""
      ],
      "execution_count": null,
      "outputs": []
    }
  ]
}