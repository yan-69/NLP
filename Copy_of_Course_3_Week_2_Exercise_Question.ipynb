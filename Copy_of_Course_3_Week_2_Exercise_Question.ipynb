{
  "nbformat": 4,
  "nbformat_minor": 0,
  "metadata": {
    "colab": {
      "name": "Copy of Course 3 - Week 2 - Exercise - Question.ipynb",
      "provenance": [],
      "toc_visible": true,
      "include_colab_link": true
    },
    "kernelspec": {
      "display_name": "Python 3",
      "name": "python3"
    }
  },
  "cells": [
    {
      "cell_type": "markdown",
      "metadata": {
        "id": "view-in-github",
        "colab_type": "text"
      },
      "source": [
        "<a href=\"https://colab.research.google.com/github/yan-69/NLP/blob/master/Copy_of_Course_3_Week_2_Exercise_Question.ipynb\" target=\"_parent\"><img src=\"https://colab.research.google.com/assets/colab-badge.svg\" alt=\"Open In Colab\"/></a>"
      ]
    },
    {
      "cell_type": "code",
      "metadata": {
        "id": "zX4Kg8DUTKWO",
        "colab_type": "code",
        "colab": {}
      },
      "source": [
        "#@title Licensed under the Apache License, Version 2.0 (the \"License\");\n",
        "# you may not use this file except in compliance with the License.\n",
        "# You may obtain a copy of the License at\n",
        "#\n",
        "# https://www.apache.org/licenses/LICENSE-2.0\n",
        "#\n",
        "# Unless required by applicable law or agreed to in writing, software\n",
        "# distributed under the License is distributed on an \"AS IS\" BASIS,\n",
        "# WITHOUT WARRANTIES OR CONDITIONS OF ANY KIND, either express or implied.\n",
        "# See the License for the specific language governing permissions and\n",
        "# limitations under the License."
      ],
      "execution_count": null,
      "outputs": []
    },
    {
      "cell_type": "markdown",
      "metadata": {
        "colab_type": "text",
        "id": "view-in-github"
      },
      "source": [
        "<a href=\"https://colab.research.google.com/github/lmoroney/dlaicourse/blob/master/TensorFlow%20In%20Practice/Course%203%20-%20NLP/Course%203%20-%20Week%202%20-%20Exercise%20-%20Question.ipynb\" target=\"_parent\"><img src=\"https://colab.research.google.com/assets/colab-badge.svg\" alt=\"Open In Colab\"/></a>"
      ]
    },
    {
      "cell_type": "code",
      "metadata": {
        "colab_type": "code",
        "id": "gnwiOnGyW5JK",
        "colab": {
          "base_uri": "https://localhost:8080/",
          "height": 204
        },
        "outputId": "9f31aecb-54e1-4c34-e705-3d5057f3b556"
      },
      "source": [
        "import pandas as pd\n",
        "import csv\n",
        "import tensorflow as tf\n",
        "import numpy as np\n",
        "from tensorflow.keras.preprocessing.text import Tokenizer\n",
        "from tensorflow.keras.preprocessing.sequence import pad_sequences\n",
        "\n",
        "!wget --no-check-certificate \\\n",
        "    https://storage.googleapis.com/laurencemoroney-blog.appspot.com/bbc-text.csv \\\n",
        "    -O /tmp/bbc-text.csv"
      ],
      "execution_count": null,
      "outputs": [
        {
          "output_type": "stream",
          "text": [
            "--2020-07-03 13:23:03--  https://storage.googleapis.com/laurencemoroney-blog.appspot.com/bbc-text.csv\n",
            "Resolving storage.googleapis.com (storage.googleapis.com)... 64.233.189.128, 108.177.125.128, 74.125.203.128, ...\n",
            "Connecting to storage.googleapis.com (storage.googleapis.com)|64.233.189.128|:443... connected.\n",
            "HTTP request sent, awaiting response... 200 OK\n",
            "Length: 5057493 (4.8M) [application/octet-stream]\n",
            "Saving to: ‘/tmp/bbc-text.csv’\n",
            "\n",
            "\r/tmp/bbc-text.csv     0%[                    ]       0  --.-KB/s               \r/tmp/bbc-text.csv   100%[===================>]   4.82M  --.-KB/s    in 0.05s   \n",
            "\n",
            "2020-07-03 13:23:03 (95.5 MB/s) - ‘/tmp/bbc-text.csv’ saved [5057493/5057493]\n",
            "\n"
          ],
          "name": "stdout"
        }
      ]
    },
    {
      "cell_type": "code",
      "metadata": {
        "colab_type": "code",
        "id": "EYo6A4v5ZABQ",
        "colab": {}
      },
      "source": [
        "vocab_size = 10000\n",
        "embedding_dim = 16\n",
        "max_length = 120\n",
        "trunc_type = 'post'\n",
        "padding_type = 'post'\n",
        "oov_tok = '<OOV>'\n",
        "training_portion = .8"
      ],
      "execution_count": null,
      "outputs": []
    },
    {
      "cell_type": "code",
      "metadata": {
        "colab_type": "code",
        "id": "iU1qq3_SZBx_",
        "colab": {
          "base_uri": "https://localhost:8080/",
          "height": 34
        },
        "outputId": "01215c9c-028f-4b12-fafe-2126a9027b3d"
      },
      "source": [
        "sentences = []\n",
        "labels = []\n",
        "stopwords = [ \"a\", \"about\", \"above\", \"after\", \"again\", \"against\", \"all\", \"am\", \"an\", \"and\", \"any\", \"are\", \"as\", \"at\", \"be\", \"because\", \"been\", \"before\", \"being\", \"below\", \"between\", \"both\", \"but\", \"by\", \"could\", \"did\", \"do\", \"does\", \"doing\", \"down\", \"during\", \"each\", \"few\", \"for\", \"from\", \"further\", \"had\", \"has\", \"have\", \"having\", \"he\", \"he'd\", \"he'll\", \"he's\", \"her\", \"here\", \"here's\", \"hers\", \"herself\", \"him\", \"himself\", \"his\", \"how\", \"how's\", \"i\", \"i'd\", \"i'll\", \"i'm\", \"i've\", \"if\", \"in\", \"into\", \"is\", \"it\", \"it's\", \"its\", \"itself\", \"let's\", \"me\", \"more\", \"most\", \"my\", \"myself\", \"nor\", \"of\", \"on\", \"once\", \"only\", \"or\", \"other\", \"ought\", \"our\", \"ours\", \"ourselves\", \"out\", \"over\", \"own\", \"same\", \"she\", \"she'd\", \"she'll\", \"she's\", \"should\", \"so\", \"some\", \"such\", \"than\", \"that\", \"that's\", \"the\", \"their\", \"theirs\", \"them\", \"themselves\", \"then\", \"there\", \"there's\", \"these\", \"they\", \"they'd\", \"they'll\", \"they're\", \"they've\", \"this\", \"those\", \"through\", \"to\", \"too\", \"under\", \"until\", \"up\", \"very\", \"was\", \"we\", \"we'd\", \"we'll\", \"we're\", \"we've\", \"were\", \"what\", \"what's\", \"when\", \"when's\", \"where\", \"where's\", \"which\", \"while\", \"who\", \"who's\", \"whom\", \"why\", \"why's\", \"with\", \"would\", \"you\", \"you'd\", \"you'll\", \"you're\", \"you've\", \"your\", \"yours\", \"yourself\", \"yourselves\" ]\n",
        "print(len(stopwords))\n",
        "# Expected Output\n",
        "# 153"
      ],
      "execution_count": null,
      "outputs": [
        {
          "output_type": "stream",
          "text": [
            "153\n"
          ],
          "name": "stdout"
        }
      ]
    },
    {
      "cell_type": "code",
      "metadata": {
        "colab_type": "code",
        "id": "eutB2xMiZD0e",
        "colab": {
          "base_uri": "https://localhost:8080/",
          "height": 88
        },
        "outputId": "28de27b0-8978-4447-af55-1009f3247313"
      },
      "source": [
        "with open(\"/tmp/bbc-text.csv\", 'r') as csvfile:\n",
        "    reader = csv.reader(csvfile,delimiter=',')\n",
        "    next(reader)\n",
        "    for row in reader:\n",
        "      labels.append(row[0])\n",
        "      sentence = row[1]\n",
        "      for word in stopwords:\n",
        "        token = \" \" + word + \" \"\n",
        "        sentence = sentence.replace(token, \" \")\n",
        "        sentence = sentence.replace(\"  \", \" \")\n",
        "      sentences.append(sentence)\n",
        "\n",
        "    \n",
        "print(len(labels))\n",
        "print(len(sentences))\n",
        "print(sentences[0])\n",
        "# Expected Output\n",
        "# 2225\n",
        "# 2225\n",
        "# tv future hands viewers home theatre systems  plasma high-definition tvs  digital video recorders moving living room  way people watch tv will radically different five years  time.  according expert panel gathered annual consumer electronics show las vegas discuss new technologies will impact one favourite pastimes. us leading trend  programmes content will delivered viewers via home networks  cable  satellite  telecoms companies  broadband service providers front rooms portable devices.  one talked-about technologies ces digital personal video recorders (dvr pvr). set-top boxes  like us s tivo uk s sky+ system  allow people record  store  play  pause forward wind tv programmes want.  essentially  technology allows much personalised tv. also built-in high-definition tv sets  big business japan us  slower take off europe lack high-definition programming. not can people forward wind adverts  can also forget abiding network channel schedules  putting together a-la-carte entertainment. us networks cable satellite companies worried means terms advertising revenues well  brand identity  viewer loyalty channels. although us leads technology moment  also concern raised europe  particularly growing uptake services like sky+.  happens today  will see nine months years  time uk   adam hume  bbc broadcast s futurologist told bbc news website. likes bbc  no issues lost advertising revenue yet. pressing issue moment commercial uk broadcasters  brand loyalty important everyone.  will talking content brands rather network brands   said tim hanlon  brand communications firm starcom mediavest.  reality broadband connections  anybody can producer content.  added:  challenge now hard promote programme much choice.   means  said stacey jolna  senior vice president tv guide tv group  way people find content want watch simplified tv viewers. means networks  us terms  channels take leaf google s book search engine future  instead scheduler help people find want watch. kind channel model might work younger ipod generation used taking control gadgets play them. might not suit everyone  panel recognised. older generations comfortable familiar schedules channel brands know getting. perhaps not want much choice put hands  mr hanlon suggested.  end  kids just diapers pushing buttons already - everything possible available   said mr hanlon.  ultimately  consumer will tell market want.   50 000 new gadgets technologies showcased ces  many enhancing tv-watching experience. high-definition tv sets everywhere many new models lcd (liquid crystal display) tvs launched dvr capability built  instead external boxes. one example launched show humax s 26-inch lcd tv 80-hour tivo dvr dvd recorder. one us s biggest satellite tv companies  directtv  even launched branded dvr show 100-hours recording capability  instant replay  search function. set can pause rewind tv 90 hours. microsoft chief bill gates announced pre-show keynote speech partnership tivo  called tivotogo  means people can play recorded programmes windows pcs mobile devices. reflect increasing trend freeing multimedia people can watch want  want."
      ],
      "execution_count": null,
      "outputs": [
        {
          "output_type": "stream",
          "text": [
            "2225\n",
            "2225\n",
            "tv future hands viewers home theatre systems plasma high-definition tvs digital video recorders moving living room way people watch tv will radically different five years time. according expert panel gathered annual consumer electronics show las vegas discuss new technologies will impact one favourite pastimes. us leading trend programmes content will delivered viewers via home networks cable satellite telecoms companies broadband service providers front rooms portable devices. one talked-about technologies ces digital personal video recorders (dvr pvr). set-top boxes like us s tivo uk s sky+ system allow people record store play pause forward wind tv programmes want. essentially technology allows much personalised tv. also built-in high-definition tv sets big business japan us slower take off europe lack high-definition programming. not can people forward wind adverts can also forget abiding network channel schedules putting together a-la-carte entertainment. us networks cable satellite companies worried means terms advertising revenues well brand identity viewer loyalty channels. although us leads technology moment also concern raised europe particularly growing uptake services like sky+. happens today will see nine months years time uk adam hume bbc broadcast s futurologist told bbc news website. likes bbc no issues lost advertising revenue yet. pressing issue moment commercial uk broadcasters brand loyalty important everyone. will talking content brands rather network brands said tim hanlon brand communications firm starcom mediavest. reality broadband connections anybody can producer content. added: challenge now hard promote programme much choice. means said stacey jolna senior vice president tv guide tv group way people find content want watch simplified tv viewers. means networks us terms channels take leaf google s book search engine future instead scheduler help people find want watch. kind channel model might work younger ipod generation used taking control gadgets play them. might not suit everyone panel recognised. older generations comfortable familiar schedules channel brands know getting. perhaps not want much choice put hands mr hanlon suggested. end kids just diapers pushing buttons already - everything possible available said mr hanlon. ultimately consumer will tell market want. 50 000 new gadgets technologies showcased ces many enhancing tv-watching experience. high-definition tv sets everywhere many new models lcd (liquid crystal display) tvs launched dvr capability built instead external boxes. one example launched show humax s 26-inch lcd tv 80-hour tivo dvr dvd recorder. one us s biggest satellite tv companies directtv even launched branded dvr show 100-hours recording capability instant replay search function. set can pause rewind tv 90 hours. microsoft chief bill gates announced pre-show keynote speech partnership tivo called tivotogo means people can play recorded programmes windows pcs mobile devices. reflect increasing trend freeing multimedia people can watch want want.\n"
          ],
          "name": "stdout"
        }
      ]
    },
    {
      "cell_type": "code",
      "metadata": {
        "colab_type": "code",
        "id": "XfdaWh06ZGe3",
        "colab": {
          "base_uri": "https://localhost:8080/",
          "height": 102
        },
        "outputId": "06b63520-9122-460f-f3bd-6ea8f5bde0f4"
      },
      "source": [
        "train_size = int(len(sentences) * training_portion)\n",
        "\n",
        "train_sentences = sentences[:train_size]\n",
        "train_labels = labels[:train_size]\n",
        "\n",
        "validation_sentences = sentences[train_size:]\n",
        "validation_labels = labels[train_size:]\n",
        "\n",
        "print(train_size)\n",
        "print(len(train_sentences))\n",
        "print(len(train_labels))\n",
        "print(len(validation_sentences))\n",
        "print(len(validation_labels))\n",
        "\n",
        "# Expected output (if training_portion=.8)\n",
        "# 1780\n",
        "# 1780\n",
        "# 1780\n",
        "# 445\n",
        "# 445"
      ],
      "execution_count": null,
      "outputs": [
        {
          "output_type": "stream",
          "text": [
            "1780\n",
            "1780\n",
            "1780\n",
            "445\n",
            "445\n"
          ],
          "name": "stdout"
        }
      ]
    },
    {
      "cell_type": "code",
      "metadata": {
        "colab_type": "code",
        "id": "ULzA8xhwZI22",
        "colab": {
          "base_uri": "https://localhost:8080/",
          "height": 119
        },
        "outputId": "13b242d0-19ce-450c-f96d-739e30601cff"
      },
      "source": [
        "tokenizer = Tokenizer(num_words = vocab_size , oov_token = oov_tok)\n",
        "tokenizer.fit_on_texts(train_sentences)\n",
        "word_index = tokenizer.word_index\n",
        "\n",
        "train_sequences = tokenizer.texts_to_sequences(train_sentences)\n",
        "train_padded = pad_sequences(train_sequences,maxlen = max_length , padding = padding_type , truncating = trunc_type)\n",
        "\n",
        "print(len(train_sequences[0]))\n",
        "print(len(train_padded[0]))\n",
        "\n",
        "print(len(train_sequences[1]))\n",
        "print(len(train_padded[1]))\n",
        "\n",
        "print(len(train_sequences[10]))\n",
        "print(len(train_padded[10]))\n",
        "\n",
        "# Expected Ouput\n",
        "# 449\n",
        "# 120\n",
        "# 200\n",
        "# 120\n",
        "# 192\n",
        "# 120"
      ],
      "execution_count": null,
      "outputs": [
        {
          "output_type": "stream",
          "text": [
            "449\n",
            "120\n",
            "200\n",
            "120\n",
            "192\n",
            "120\n"
          ],
          "name": "stdout"
        }
      ]
    },
    {
      "cell_type": "code",
      "metadata": {
        "colab_type": "code",
        "id": "c8PeFWzPZLW_",
        "colab": {
          "base_uri": "https://localhost:8080/",
          "height": 51
        },
        "outputId": "ee8c2692-540a-47bb-baa8-9225039ff8be"
      },
      "source": [
        "validation_sequences = tokenizer.texts_to_sequences(validation_sentences)\n",
        "validation_padded = pad_sequences(validation_sequences,maxlen=max_length,padding = padding_type , truncating = trunc_type)\n",
        "\n",
        "print(len(validation_sequences))\n",
        "print(validation_padded.shape)\n",
        "\n",
        "# Expected output\n",
        "# 445\n",
        "# (445, 120)"
      ],
      "execution_count": null,
      "outputs": [
        {
          "output_type": "stream",
          "text": [
            "445\n",
            "(445, 120)\n"
          ],
          "name": "stdout"
        }
      ]
    },
    {
      "cell_type": "code",
      "metadata": {
        "colab_type": "code",
        "id": "XkWiQ_FKZNp2",
        "colab": {
          "base_uri": "https://localhost:8080/",
          "height": 326
        },
        "outputId": "ff6bd4d9-b9e9-4c50-bd35-8b3194afbf56"
      },
      "source": [
        "label_tokenizer = Tokenizer()\n",
        "label_tokenizer.fit_on_texts(labels)\n",
        "\n",
        "training_label_seq = np.array(label_tokenizer.texts_to_sequences(train_labels))\n",
        "validation_label_seq = np.array(label_tokenizer.texts_to_sequences(validation_labels))\n",
        "\n",
        "print(training_label_seq[0])\n",
        "print(training_label_seq[1])\n",
        "print(training_label_seq[2])\n",
        "print(training_label_seq.shape)\n",
        "\n",
        "print(validation_label_seq[0])\n",
        "print(validation_label_seq[1])\n",
        "print(validation_label_seq[2])\n",
        "print(validation_label_seq.shape)\n",
        "\n",
        "print(str(len(training_label_seq)) +  \"labels\")\n",
        "print(training_label_seq)\n",
        "print(labels)\n",
        "# Expected output\n",
        "# [4]\n",
        "# [2]\n",
        "# [1]\n",
        "# (1780, 1)\n",
        "# [5]\n",
        "# [4]\n",
        "# [3]\n",
        "# (445, 1)"
      ],
      "execution_count": null,
      "outputs": [
        {
          "output_type": "stream",
          "text": [
            "[4]\n",
            "[2]\n",
            "[1]\n",
            "(1780, 1)\n",
            "[5]\n",
            "[4]\n",
            "[3]\n",
            "(445, 1)\n",
            "1780labels\n",
            "[[4]\n",
            " [2]\n",
            " [1]\n",
            " ...\n",
            " [1]\n",
            " [2]\n",
            " [5]]\n",
            "['tech', 'business', 'sport', 'sport', 'entertainment', 'politics', 'politics', 'sport', 'sport', 'entertainment', 'entertainment', 'business', 'business', 'politics', 'sport', 'business', 'politics', 'sport', 'business', 'tech', 'tech', 'tech', 'sport', 'sport', 'tech', 'sport', 'entertainment', 'tech', 'politics', 'entertainment', 'politics', 'tech', 'entertainment', 'entertainment', 'business', 'politics', 'tech', 'entertainment', 'politics', 'business', 'politics', 'sport', 'business', 'sport', 'tech', 'entertainment', 'politics', 'politics', 'politics', 'business', 'sport', 'politics', 'business', 'business', 'sport', 'politics', 'business', 'sport', 'sport', 'business', 'business', 'sport', 'business', 'sport', 'business', 'tech', 'business', 'entertainment', 'tech', 'business', 'politics', 'business', 'politics', 'sport', 'business', 'tech', 'business', 'sport', 'sport', 'business', 'business', 'sport', 'politics', 'business', 'entertainment', 'politics', 'politics', 'business', 'entertainment', 'business', 'sport', 'sport', 'politics', 'sport', 'politics', 'sport', 'business', 'sport', 'business', 'entertainment', 'entertainment', 'sport', 'business', 'politics', 'politics', 'tech', 'sport', 'entertainment', 'sport', 'tech', 'business', 'entertainment', 'sport', 'entertainment', 'sport', 'entertainment', 'entertainment', 'politics', 'sport', 'sport', 'entertainment', 'politics', 'business', 'tech', 'business', 'business', 'tech', 'sport', 'politics', 'sport', 'tech', 'entertainment', 'sport', 'business', 'business', 'tech', 'entertainment', 'tech', 'sport', 'business', 'business', 'business', 'tech', 'sport', 'tech', 'business', 'sport', 'entertainment', 'sport', 'tech', 'sport', 'tech', 'politics', 'business', 'tech', 'entertainment', 'sport', 'business', 'politics', 'business', 'entertainment', 'politics', 'politics', 'entertainment', 'politics', 'business', 'entertainment', 'politics', 'politics', 'entertainment', 'politics', 'sport', 'business', 'politics', 'politics', 'business', 'entertainment', 'sport', 'business', 'business', 'sport', 'tech', 'sport', 'tech', 'tech', 'sport', 'business', 'sport', 'politics', 'entertainment', 'politics', 'business', 'politics', 'business', 'tech', 'politics', 'entertainment', 'politics', 'tech', 'business', 'sport', 'business', 'sport', 'tech', 'entertainment', 'business', 'politics', 'politics', 'entertainment', 'sport', 'entertainment', 'politics', 'sport', 'entertainment', 'sport', 'sport', 'entertainment', 'sport', 'politics', 'politics', 'entertainment', 'tech', 'sport', 'politics', 'business', 'entertainment', 'tech', 'sport', 'tech', 'sport', 'entertainment', 'politics', 'sport', 'entertainment', 'tech', 'business', 'tech', 'business', 'business', 'tech', 'business', 'sport', 'business', 'sport', 'business', 'sport', 'entertainment', 'business', 'business', 'entertainment', 'sport', 'sport', 'politics', 'tech', 'politics', 'politics', 'politics', 'tech', 'sport', 'tech', 'politics', 'business', 'tech', 'entertainment', 'tech', 'sport', 'sport', 'business', 'business', 'politics', 'business', 'tech', 'sport', 'entertainment', 'sport', 'politics', 'tech', 'entertainment', 'business', 'sport', 'entertainment', 'sport', 'tech', 'politics', 'tech', 'business', 'business', 'politics', 'politics', 'sport', 'business', 'tech', 'entertainment', 'politics', 'tech', 'business', 'entertainment', 'sport', 'entertainment', 'sport', 'entertainment', 'politics', 'business', 'sport', 'business', 'sport', 'sport', 'entertainment', 'sport', 'politics', 'politics', 'business', 'entertainment', 'tech', 'business', 'sport', 'business', 'entertainment', 'business', 'business', 'business', 'politics', 'business', 'politics', 'entertainment', 'entertainment', 'business', 'sport', 'business', 'politics', 'business', 'tech', 'entertainment', 'business', 'sport', 'sport', 'entertainment', 'business', 'business', 'politics', 'tech', 'entertainment', 'tech', 'politics', 'business', 'sport', 'politics', 'business', 'entertainment', 'tech', 'entertainment', 'tech', 'politics', 'sport', 'entertainment', 'business', 'politics', 'business', 'business', 'politics', 'sport', 'tech', 'business', 'business', 'entertainment', 'entertainment', 'tech', 'sport', 'business', 'entertainment', 'tech', 'tech', 'entertainment', 'entertainment', 'entertainment', 'politics', 'sport', 'politics', 'tech', 'business', 'entertainment', 'politics', 'business', 'entertainment', 'politics', 'politics', 'sport', 'sport', 'business', 'politics', 'entertainment', 'business', 'sport', 'business', 'business', 'sport', 'business', 'politics', 'politics', 'politics', 'sport', 'tech', 'tech', 'business', 'tech', 'sport', 'entertainment', 'business', 'politics', 'business', 'entertainment', 'business', 'politics', 'entertainment', 'politics', 'business', 'tech', 'business', 'sport', 'sport', 'business', 'sport', 'sport', 'entertainment', 'sport', 'sport', 'sport', 'tech', 'business', 'business', 'business', 'politics', 'sport', 'sport', 'business', 'tech', 'business', 'politics', 'sport', 'politics', 'tech', 'business', 'sport', 'entertainment', 'business', 'politics', 'tech', 'business', 'sport', 'business', 'politics', 'business', 'business', 'sport', 'entertainment', 'tech', 'politics', 'tech', 'business', 'sport', 'business', 'entertainment', 'tech', 'tech', 'business', 'sport', 'sport', 'entertainment', 'politics', 'politics', 'politics', 'sport', 'politics', 'tech', 'tech', 'entertainment', 'politics', 'tech', 'entertainment', 'business', 'sport', 'sport', 'tech', 'business', 'sport', 'sport', 'politics', 'sport', 'sport', 'business', 'sport', 'entertainment', 'tech', 'politics', 'sport', 'politics', 'tech', 'business', 'business', 'business', 'tech', 'business', 'business', 'sport', 'sport', 'sport', 'sport', 'business', 'tech', 'entertainment', 'sport', 'sport', 'tech', 'business', 'tech', 'entertainment', 'politics', 'sport', 'business', 'politics', 'business', 'tech', 'tech', 'politics', 'tech', 'business', 'sport', 'business', 'entertainment', 'sport', 'politics', 'entertainment', 'sport', 'sport', 'politics', 'tech', 'entertainment', 'tech', 'sport', 'politics', 'business', 'entertainment', 'politics', 'business', 'entertainment', 'sport', 'sport', 'tech', 'politics', 'entertainment', 'politics', 'entertainment', 'politics', 'tech', 'politics', 'entertainment', 'sport', 'business', 'sport', 'entertainment', 'sport', 'entertainment', 'tech', 'business', 'sport', 'politics', 'entertainment', 'politics', 'entertainment', 'entertainment', 'entertainment', 'politics', 'entertainment', 'tech', 'politics', 'tech', 'tech', 'sport', 'sport', 'tech', 'tech', 'sport', 'entertainment', 'entertainment', 'sport', 'tech', 'entertainment', 'sport', 'sport', 'tech', 'business', 'politics', 'tech', 'business', 'sport', 'entertainment', 'sport', 'entertainment', 'politics', 'tech', 'entertainment', 'entertainment', 'business', 'entertainment', 'entertainment', 'sport', 'tech', 'tech', 'politics', 'sport', 'tech', 'sport', 'politics', 'politics', 'entertainment', 'tech', 'business', 'tech', 'tech', 'tech', 'business', 'politics', 'politics', 'sport', 'tech', 'business', 'business', 'entertainment', 'entertainment', 'sport', 'tech', 'business', 'tech', 'entertainment', 'sport', 'tech', 'politics', 'tech', 'politics', 'business', 'politics', 'politics', 'business', 'sport', 'tech', 'sport', 'tech', 'politics', 'entertainment', 'tech', 'sport', 'entertainment', 'tech', 'sport', 'politics', 'entertainment', 'sport', 'tech', 'sport', 'sport', 'politics', 'entertainment', 'business', 'politics', 'entertainment', 'business', 'business', 'tech', 'business', 'entertainment', 'tech', 'sport', 'tech', 'politics', 'tech', 'politics', 'business', 'politics', 'entertainment', 'sport', 'business', 'business', 'business', 'entertainment', 'sport', 'business', 'entertainment', 'entertainment', 'sport', 'entertainment', 'politics', 'politics', 'politics', 'sport', 'sport', 'sport', 'tech', 'politics', 'sport', 'politics', 'politics', 'tech', 'politics', 'sport', 'business', 'entertainment', 'sport', 'business', 'business', 'tech', 'business', 'entertainment', 'entertainment', 'entertainment', 'business', 'entertainment', 'entertainment', 'politics', 'tech', 'business', 'sport', 'tech', 'sport', 'sport', 'politics', 'business', 'sport', 'tech', 'business', 'sport', 'tech', 'sport', 'sport', 'entertainment', 'sport', 'business', 'sport', 'business', 'tech', 'politics', 'tech', 'business', 'sport', 'sport', 'business', 'business', 'business', 'business', 'politics', 'sport', 'business', 'tech', 'business', 'sport', 'politics', 'business', 'tech', 'business', 'sport', 'business', 'politics', 'entertainment', 'sport', 'business', 'politics', 'business', 'entertainment', 'business', 'business', 'business', 'sport', 'politics', 'entertainment', 'sport', 'politics', 'sport', 'politics', 'politics', 'business', 'business', 'sport', 'tech', 'entertainment', 'sport', 'entertainment', 'business', 'business', 'business', 'tech', 'sport', 'tech', 'politics', 'tech', 'tech', 'tech', 'sport', 'tech', 'tech', 'entertainment', 'entertainment', 'tech', 'sport', 'entertainment', 'tech', 'sport', 'sport', 'business', 'entertainment', 'tech', 'business', 'sport', 'business', 'politics', 'business', 'entertainment', 'tech', 'business', 'politics', 'business', 'tech', 'sport', 'business', 'entertainment', 'business', 'politics', 'sport', 'entertainment', 'politics', 'sport', 'business', 'sport', 'politics', 'politics', 'sport', 'entertainment', 'entertainment', 'business', 'business', 'sport', 'tech', 'tech', 'sport', 'entertainment', 'tech', 'tech', 'business', 'sport', 'entertainment', 'tech', 'sport', 'sport', 'business', 'entertainment', 'business', 'business', 'business', 'entertainment', 'sport', 'entertainment', 'tech', 'tech', 'tech', 'politics', 'tech', 'tech', 'entertainment', 'entertainment', 'sport', 'sport', 'politics', 'business', 'entertainment', 'sport', 'politics', 'entertainment', 'tech', 'politics', 'tech', 'tech', 'business', 'entertainment', 'politics', 'tech', 'politics', 'politics', 'sport', 'politics', 'politics', 'entertainment', 'tech', 'sport', 'politics', 'sport', 'entertainment', 'politics', 'business', 'business', 'politics', 'sport', 'sport', 'sport', 'entertainment', 'tech', 'tech', 'business', 'entertainment', 'sport', 'politics', 'tech', 'politics', 'entertainment', 'tech', 'tech', 'business', 'business', 'sport', 'business', 'business', 'tech', 'politics', 'entertainment', 'business', 'business', 'business', 'business', 'business', 'tech', 'sport', 'politics', 'tech', 'tech', 'business', 'business', 'entertainment', 'politics', 'entertainment', 'sport', 'tech', 'sport', 'entertainment', 'sport', 'tech', 'sport', 'business', 'sport', 'politics', 'politics', 'entertainment', 'business', 'sport', 'politics', 'politics', 'sport', 'entertainment', 'politics', 'business', 'tech', 'sport', 'business', 'business', 'business', 'entertainment', 'entertainment', 'tech', 'tech', 'business', 'business', 'entertainment', 'sport', 'business', 'entertainment', 'tech', 'tech', 'business', 'business', 'sport', 'sport', 'sport', 'politics', 'politics', 'sport', 'politics', 'sport', 'business', 'entertainment', 'sport', 'tech', 'entertainment', 'sport', 'sport', 'business', 'business', 'tech', 'tech', 'sport', 'entertainment', 'sport', 'entertainment', 'sport', 'entertainment', 'politics', 'entertainment', 'entertainment', 'tech', 'entertainment', 'business', 'business', 'politics', 'sport', 'politics', 'tech', 'business', 'politics', 'sport', 'politics', 'sport', 'entertainment', 'sport', 'politics', 'sport', 'sport', 'tech', 'entertainment', 'sport', 'politics', 'sport', 'sport', 'business', 'tech', 'entertainment', 'politics', 'tech', 'entertainment', 'politics', 'entertainment', 'politics', 'entertainment', 'entertainment', 'tech', 'entertainment', 'politics', 'entertainment', 'entertainment', 'tech', 'tech', 'sport', 'sport', 'entertainment', 'entertainment', 'tech', 'entertainment', 'politics', 'tech', 'entertainment', 'business', 'tech', 'sport', 'business', 'entertainment', 'entertainment', 'tech', 'entertainment', 'tech', 'business', 'entertainment', 'sport', 'entertainment', 'business', 'sport', 'business', 'sport', 'politics', 'tech', 'entertainment', 'politics', 'business', 'entertainment', 'entertainment', 'politics', 'business', 'entertainment', 'sport', 'politics', 'sport', 'business', 'business', 'business', 'business', 'business', 'entertainment', 'tech', 'sport', 'entertainment', 'entertainment', 'business', 'sport', 'tech', 'tech', 'entertainment', 'sport', 'business', 'politics', 'business', 'politics', 'business', 'business', 'entertainment', 'politics', 'business', 'business', 'tech', 'politics', 'sport', 'tech', 'entertainment', 'politics', 'business', 'business', 'sport', 'entertainment', 'politics', 'tech', 'business', 'business', 'politics', 'business', 'sport', 'entertainment', 'sport', 'entertainment', 'tech', 'politics', 'business', 'business', 'tech', 'business', 'business', 'sport', 'business', 'tech', 'entertainment', 'politics', 'business', 'politics', 'business', 'sport', 'tech', 'business', 'politics', 'entertainment', 'tech', 'business', 'entertainment', 'sport', 'politics', 'politics', 'sport', 'politics', 'business', 'tech', 'entertainment', 'sport', 'sport', 'tech', 'business', 'sport', 'entertainment', 'tech', 'sport', 'politics', 'sport', 'business', 'business', 'business', 'politics', 'entertainment', 'sport', 'politics', 'tech', 'business', 'business', 'tech', 'entertainment', 'entertainment', 'tech', 'tech', 'sport', 'sport', 'entertainment', 'tech', 'entertainment', 'sport', 'politics', 'tech', 'business', 'sport', 'entertainment', 'business', 'business', 'entertainment', 'sport', 'business', 'sport', 'tech', 'politics', 'politics', 'tech', 'entertainment', 'politics', 'entertainment', 'business', 'business', 'politics', 'sport', 'tech', 'sport', 'sport', 'sport', 'politics', 'business', 'sport', 'business', 'tech', 'sport', 'business', 'business', 'sport', 'politics', 'tech', 'sport', 'business', 'tech', 'sport', 'sport', 'business', 'business', 'business', 'business', 'politics', 'entertainment', 'tech', 'business', 'business', 'sport', 'business', 'entertainment', 'business', 'entertainment', 'sport', 'politics', 'business', 'business', 'tech', 'entertainment', 'business', 'business', 'business', 'politics', 'business', 'politics', 'tech', 'entertainment', 'politics', 'entertainment', 'sport', 'tech', 'politics', 'business', 'tech', 'sport', 'business', 'business', 'entertainment', 'tech', 'business', 'business', 'sport', 'sport', 'entertainment', 'sport', 'politics', 'sport', 'business', 'sport', 'business', 'politics', 'politics', 'business', 'politics', 'tech', 'entertainment', 'sport', 'business', 'entertainment', 'sport', 'politics', 'politics', 'tech', 'entertainment', 'business', 'politics', 'politics', 'sport', 'tech', 'business', 'sport', 'entertainment', 'sport', 'entertainment', 'sport', 'business', 'sport', 'politics', 'entertainment', 'tech', 'business', 'sport', 'politics', 'tech', 'sport', 'entertainment', 'business', 'sport', 'entertainment', 'sport', 'tech', 'sport', 'tech', 'politics', 'sport', 'business', 'entertainment', 'tech', 'tech', 'politics', 'tech', 'entertainment', 'tech', 'sport', 'business', 'tech', 'business', 'entertainment', 'sport', 'tech', 'politics', 'politics', 'politics', 'politics', 'entertainment', 'entertainment', 'entertainment', 'business', 'politics', 'politics', 'sport', 'sport', 'tech', 'sport', 'politics', 'business', 'business', 'tech', 'sport', 'tech', 'business', 'tech', 'politics', 'politics', 'sport', 'business', 'politics', 'sport', 'business', 'tech', 'business', 'business', 'entertainment', 'entertainment', 'sport', 'business', 'tech', 'tech', 'politics', 'business', 'politics', 'sport', 'entertainment', 'entertainment', 'politics', 'politics', 'business', 'business', 'tech', 'tech', 'sport', 'sport', 'politics', 'tech', 'sport', 'tech', 'business', 'sport', 'business', 'politics', 'sport', 'entertainment', 'business', 'tech', 'politics', 'entertainment', 'tech', 'business', 'sport', 'entertainment', 'tech', 'tech', 'entertainment', 'politics', 'tech', 'entertainment', 'sport', 'entertainment', 'sport', 'sport', 'sport', 'politics', 'tech', 'sport', 'business', 'sport', 'sport', 'business', 'tech', 'sport', 'business', 'entertainment', 'politics', 'tech', 'sport', 'politics', 'tech', 'entertainment', 'politics', 'sport', 'politics', 'tech', 'business', 'entertainment', 'sport', 'politics', 'business', 'tech', 'tech', 'tech', 'politics', 'business', 'sport', 'politics', 'entertainment', 'tech', 'entertainment', 'sport', 'tech', 'business', 'politics', 'entertainment', 'tech', 'politics', 'sport', 'sport', 'business', 'entertainment', 'business', 'business', 'politics', 'business', 'business', 'politics', 'tech', 'entertainment', 'politics', 'entertainment', 'entertainment', 'business', 'politics', 'sport', 'politics', 'entertainment', 'sport', 'entertainment', 'politics', 'entertainment', 'entertainment', 'entertainment', 'business', 'sport', 'politics', 'sport', 'entertainment', 'tech', 'tech', 'business', 'politics', 'entertainment', 'business', 'sport', 'business', 'politics', 'politics', 'business', 'sport', 'tech', 'tech', 'tech', 'business', 'politics', 'politics', 'business', 'sport', 'sport', 'entertainment', 'business', 'sport', 'sport', 'politics', 'politics', 'politics', 'entertainment', 'politics', 'business', 'tech', 'business', 'politics', 'entertainment', 'entertainment', 'business', 'sport', 'politics', 'entertainment', 'sport', 'entertainment', 'politics', 'politics', 'business', 'politics', 'sport', 'entertainment', 'entertainment', 'tech', 'tech', 'tech', 'tech', 'politics', 'tech', 'business', 'tech', 'sport', 'sport', 'entertainment', 'business', 'tech', 'entertainment', 'business', 'tech', 'sport', 'tech', 'entertainment', 'entertainment', 'politics', 'politics', 'sport', 'business', 'business', 'tech', 'entertainment', 'sport', 'politics', 'business', 'tech', 'entertainment', 'politics', 'sport', 'entertainment', 'politics', 'politics', 'tech', 'sport', 'politics', 'business', 'politics', 'entertainment', 'tech', 'sport', 'politics', 'entertainment', 'entertainment', 'business', 'sport', 'tech', 'tech', 'sport', 'entertainment', 'tech', 'politics', 'tech', 'sport', 'politics', 'politics', 'sport', 'entertainment', 'sport', 'politics', 'sport', 'tech', 'entertainment', 'sport', 'entertainment', 'business', 'business', 'entertainment', 'entertainment', 'entertainment', 'tech', 'sport', 'business', 'business', 'politics', 'politics', 'business', 'politics', 'entertainment', 'sport', 'sport', 'tech', 'politics', 'sport', 'business', 'sport', 'business', 'tech', 'sport', 'sport', 'business', 'entertainment', 'sport', 'sport', 'tech', 'sport', 'business', 'politics', 'business', 'entertainment', 'tech', 'entertainment', 'politics', 'business', 'entertainment', 'politics', 'entertainment', 'politics', 'politics', 'business', 'sport', 'sport', 'sport', 'tech', 'tech', 'sport', 'politics', 'entertainment', 'tech', 'sport', 'entertainment', 'business', 'entertainment', 'politics', 'business', 'sport', 'tech', 'business', 'sport', 'politics', 'business', 'entertainment', 'entertainment', 'entertainment', 'politics', 'entertainment', 'politics', 'entertainment', 'sport', 'entertainment', 'sport', 'politics', 'politics', 'business', 'politics', 'tech', 'sport', 'tech', 'sport', 'business', 'politics', 'tech', 'entertainment', 'entertainment', 'politics', 'entertainment', 'politics', 'sport', 'sport', 'politics', 'business', 'tech', 'sport', 'politics', 'politics', 'entertainment', 'sport', 'politics', 'politics', 'business', 'tech', 'tech', 'business', 'tech', 'sport', 'sport', 'business', 'politics', 'business', 'tech', 'sport', 'tech', 'politics', 'entertainment', 'sport', 'business', 'sport', 'entertainment', 'tech', 'tech', 'sport', 'politics', 'sport', 'business', 'sport', 'business', 'sport', 'sport', 'entertainment', 'entertainment', 'business', 'tech', 'tech', 'business', 'tech', 'business', 'business', 'sport', 'sport', 'politics', 'sport', 'tech', 'sport', 'tech', 'sport', 'sport', 'business', 'business', 'tech', 'sport', 'business', 'tech', 'tech', 'politics', 'sport', 'business', 'entertainment', 'entertainment', 'tech', 'politics', 'sport', 'sport', 'tech', 'business', 'tech', 'entertainment', 'entertainment', 'politics', 'politics', 'business', 'entertainment', 'sport', 'entertainment', 'entertainment', 'business', 'sport', 'politics', 'tech', 'business', 'sport', 'entertainment', 'tech', 'politics', 'politics', 'sport', 'sport', 'business', 'business', 'business', 'business', 'business', 'entertainment', 'business', 'politics', 'politics', 'tech', 'tech', 'entertainment', 'politics', 'entertainment', 'business', 'politics', 'sport', 'sport', 'business', 'tech', 'business', 'tech', 'sport', 'business', 'business', 'politics', 'sport', 'sport', 'politics', 'politics', 'entertainment', 'entertainment', 'politics', 'business', 'politics', 'politics', 'business', 'tech', 'politics', 'politics', 'politics', 'politics', 'politics', 'entertainment', 'entertainment', 'tech', 'politics', 'sport', 'politics', 'sport', 'tech', 'sport', 'sport', 'sport', 'entertainment', 'tech', 'entertainment', 'tech', 'sport', 'tech', 'sport', 'sport', 'entertainment', 'entertainment', 'business', 'entertainment', 'entertainment', 'politics', 'business', 'sport', 'tech', 'tech', 'politics', 'business', 'sport', 'business', 'entertainment', 'sport', 'politics', 'entertainment', 'sport', 'sport', 'business', 'politics', 'tech', 'tech', 'business', 'business', 'sport', 'politics', 'entertainment', 'sport', 'sport', 'politics', 'entertainment', 'tech', 'sport', 'entertainment', 'business', 'politics', 'sport', 'politics', 'tech', 'entertainment', 'sport', 'politics', 'business', 'entertainment', 'politics', 'entertainment', 'politics', 'sport', 'politics', 'business', 'business', 'politics', 'business', 'tech', 'sport', 'business', 'entertainment', 'business', 'sport', 'sport', 'entertainment', 'tech', 'politics', 'tech', 'politics', 'politics', 'sport', 'sport', 'sport', 'business', 'tech', 'entertainment', 'business', 'sport', 'business', 'sport', 'business', 'tech', 'business', 'business', 'business', 'business', 'sport', 'sport', 'sport', 'business', 'business', 'entertainment', 'business', 'business', 'business', 'sport', 'sport', 'sport', 'tech', 'business', 'sport', 'sport', 'sport', 'business', 'entertainment', 'tech', 'tech', 'tech', 'politics', 'business', 'business', 'tech', 'business', 'tech', 'sport', 'sport', 'politics', 'politics', 'politics', 'sport', 'sport', 'politics', 'politics', 'tech', 'business', 'sport', 'sport', 'sport', 'sport', 'business', 'sport', 'business', 'business', 'business', 'business', 'sport', 'politics', 'sport', 'tech', 'tech', 'sport', 'tech', 'business', 'entertainment', 'business', 'sport', 'business', 'tech', 'tech', 'politics', 'entertainment', 'business', 'entertainment', 'business', 'tech', 'politics', 'entertainment', 'politics', 'entertainment', 'entertainment', 'tech', 'business', 'tech', 'tech', 'business', 'politics', 'sport', 'entertainment', 'business', 'politics', 'entertainment', 'business', 'tech', 'sport', 'tech', 'politics', 'sport', 'politics', 'business', 'politics', 'politics', 'business', 'business', 'business', 'tech', 'politics', 'business', 'politics', 'business', 'entertainment', 'politics', 'sport', 'politics', 'politics', 'sport', 'entertainment', 'tech', 'tech', 'business', 'tech', 'sport', 'business', 'business', 'politics', 'sport', 'tech', 'tech', 'tech', 'sport', 'entertainment', 'sport', 'politics', 'business', 'politics', 'politics', 'entertainment', 'tech', 'business', 'tech', 'sport', 'entertainment', 'entertainment', 'sport', 'business', 'entertainment', 'tech', 'tech', 'sport', 'entertainment', 'business', 'politics', 'politics', 'politics', 'tech', 'tech', 'business', 'politics', 'business', 'politics', 'politics', 'entertainment', 'sport', 'tech', 'business', 'tech', 'entertainment', 'tech', 'tech', 'sport', 'politics', 'sport', 'sport', 'politics', 'entertainment', 'entertainment', 'business', 'politics', 'politics', 'sport', 'business', 'business', 'tech', 'business', 'tech', 'tech', 'sport', 'business', 'politics', 'sport', 'business', 'business', 'sport', 'tech', 'sport', 'tech', 'entertainment', 'sport', 'sport', 'entertainment', 'business', 'tech', 'sport', 'sport', 'politics', 'tech', 'business', 'politics', 'sport', 'sport', 'politics', 'entertainment', 'tech', 'tech', 'tech', 'business', 'sport', 'entertainment', 'entertainment', 'tech', 'business', 'politics', 'tech', 'sport', 'sport', 'tech', 'tech', 'politics', 'business', 'sport', 'entertainment', 'entertainment', 'sport', 'entertainment', 'tech', 'tech', 'business', 'business', 'business', 'sport', 'sport', 'tech', 'sport', 'business', 'tech', 'business', 'business', 'sport', 'business', 'politics', 'business', 'business', 'tech', 'business', 'tech', 'politics', 'tech', 'entertainment', 'politics', 'tech', 'entertainment', 'sport', 'politics', 'entertainment', 'business', 'tech', 'business', 'tech', 'entertainment', 'tech', 'sport', 'business', 'business', 'politics', 'entertainment', 'politics', 'sport']\n"
          ],
          "name": "stdout"
        }
      ]
    },
    {
      "cell_type": "code",
      "metadata": {
        "colab_type": "code",
        "id": "HZ5um4MWZP-W",
        "colab": {
          "base_uri": "https://localhost:8080/",
          "height": 289
        },
        "outputId": "b316805a-b5b2-4bc4-d571-e9217330e06c"
      },
      "source": [
        "model = tf.keras.Sequential([\n",
        "    tf.keras.layers.Embedding(vocab_size, embedding_dim, input_length=max_length),\n",
        "    tf.keras.layers.GlobalAveragePooling1D(),\n",
        "    tf.keras.layers.Dense(24, activation='relu'),\n",
        "    tf.keras.layers.Dense(6, activation='sigmoid')\n",
        "])\n",
        "\n",
        "\n",
        "model.compile(loss='sparse_categorical_crossentropy',optimizer='adam',metrics=['accuracy'])\n",
        "model.summary()\n",
        "\n",
        "# Expected Output\n",
        "# Layer (type)                 Output Shape              Param #   \n",
        "# =================================================================\n",
        "# embedding (Embedding)        (None, 120, 16)           16000     \n",
        "# _________________________________________________________________\n",
        "# global_average_pooling1d (Gl (None, 16)                0         \n",
        "# _________________________________________________________________\n",
        "# dense (Dense)                (None, 24)                408       \n",
        "# _________________________________________________________________\n",
        "# dense_1 (Dense)              (None, 6)                 150       \n",
        "# =================================================================\n",
        "# Total params: 16,558\n",
        "# Trainable params: 16,558\n",
        "# Non-trainable params: 0"
      ],
      "execution_count": null,
      "outputs": [
        {
          "output_type": "stream",
          "text": [
            "Model: \"sequential_2\"\n",
            "_________________________________________________________________\n",
            "Layer (type)                 Output Shape              Param #   \n",
            "=================================================================\n",
            "embedding_2 (Embedding)      (None, 120, 16)           160000    \n",
            "_________________________________________________________________\n",
            "global_average_pooling1d_2 ( (None, 16)                0         \n",
            "_________________________________________________________________\n",
            "dense_4 (Dense)              (None, 24)                408       \n",
            "_________________________________________________________________\n",
            "dense_5 (Dense)              (None, 6)                 150       \n",
            "=================================================================\n",
            "Total params: 160,558\n",
            "Trainable params: 160,558\n",
            "Non-trainable params: 0\n",
            "_________________________________________________________________\n"
          ],
          "name": "stdout"
        }
      ]
    },
    {
      "cell_type": "code",
      "metadata": {
        "colab_type": "code",
        "id": "XsfdxySKZSXu",
        "colab": {
          "base_uri": "https://localhost:8080/",
          "height": 348
        },
        "outputId": "36212eea-19b1-49c7-e31a-5d1c1d57bda7"
      },
      "source": [
        "num_epochs = 30\n",
        "history = model.fit(train_padded, train_sequences, epochs=num_epochs, validation_data=(validation_padded, validation_label_seq), verbose=2) "
      ],
      "execution_count": null,
      "outputs": [
        {
          "output_type": "error",
          "ename": "ValueError",
          "evalue": "ignored",
          "traceback": [
            "\u001b[0;31m---------------------------------------------------------------------------\u001b[0m",
            "\u001b[0;31mValueError\u001b[0m                                Traceback (most recent call last)",
            "\u001b[0;32m<ipython-input-54-df2114c01765>\u001b[0m in \u001b[0;36m<module>\u001b[0;34m()\u001b[0m\n\u001b[1;32m      1\u001b[0m \u001b[0mnum_epochs\u001b[0m \u001b[0;34m=\u001b[0m \u001b[0;36m30\u001b[0m\u001b[0;34m\u001b[0m\u001b[0;34m\u001b[0m\u001b[0m\n\u001b[0;32m----> 2\u001b[0;31m \u001b[0mhistory\u001b[0m \u001b[0;34m=\u001b[0m \u001b[0mmodel\u001b[0m\u001b[0;34m.\u001b[0m\u001b[0mfit\u001b[0m\u001b[0;34m(\u001b[0m\u001b[0mtrain_padded\u001b[0m\u001b[0;34m,\u001b[0m \u001b[0mtrain_sequences\u001b[0m\u001b[0;34m,\u001b[0m \u001b[0mepochs\u001b[0m\u001b[0;34m=\u001b[0m\u001b[0mnum_epochs\u001b[0m\u001b[0;34m,\u001b[0m \u001b[0mvalidation_data\u001b[0m\u001b[0;34m=\u001b[0m\u001b[0;34m(\u001b[0m\u001b[0mvalidation_padded\u001b[0m\u001b[0;34m,\u001b[0m \u001b[0mvalidation_label_seq\u001b[0m\u001b[0;34m)\u001b[0m\u001b[0;34m,\u001b[0m \u001b[0mverbose\u001b[0m\u001b[0;34m=\u001b[0m\u001b[0;36m2\u001b[0m\u001b[0;34m)\u001b[0m\u001b[0;34m\u001b[0m\u001b[0;34m\u001b[0m\u001b[0m\n\u001b[0m",
            "\u001b[0;32m/usr/local/lib/python3.6/dist-packages/tensorflow/python/keras/engine/training.py\u001b[0m in \u001b[0;36m_method_wrapper\u001b[0;34m(self, *args, **kwargs)\u001b[0m\n\u001b[1;32m     64\u001b[0m   \u001b[0;32mdef\u001b[0m \u001b[0m_method_wrapper\u001b[0m\u001b[0;34m(\u001b[0m\u001b[0mself\u001b[0m\u001b[0;34m,\u001b[0m \u001b[0;34m*\u001b[0m\u001b[0margs\u001b[0m\u001b[0;34m,\u001b[0m \u001b[0;34m**\u001b[0m\u001b[0mkwargs\u001b[0m\u001b[0;34m)\u001b[0m\u001b[0;34m:\u001b[0m\u001b[0;34m\u001b[0m\u001b[0;34m\u001b[0m\u001b[0m\n\u001b[1;32m     65\u001b[0m     \u001b[0;32mif\u001b[0m \u001b[0;32mnot\u001b[0m \u001b[0mself\u001b[0m\u001b[0;34m.\u001b[0m\u001b[0m_in_multi_worker_mode\u001b[0m\u001b[0;34m(\u001b[0m\u001b[0;34m)\u001b[0m\u001b[0;34m:\u001b[0m  \u001b[0;31m# pylint: disable=protected-access\u001b[0m\u001b[0;34m\u001b[0m\u001b[0;34m\u001b[0m\u001b[0m\n\u001b[0;32m---> 66\u001b[0;31m       \u001b[0;32mreturn\u001b[0m \u001b[0mmethod\u001b[0m\u001b[0;34m(\u001b[0m\u001b[0mself\u001b[0m\u001b[0;34m,\u001b[0m \u001b[0;34m*\u001b[0m\u001b[0margs\u001b[0m\u001b[0;34m,\u001b[0m \u001b[0;34m**\u001b[0m\u001b[0mkwargs\u001b[0m\u001b[0;34m)\u001b[0m\u001b[0;34m\u001b[0m\u001b[0;34m\u001b[0m\u001b[0m\n\u001b[0m\u001b[1;32m     67\u001b[0m \u001b[0;34m\u001b[0m\u001b[0m\n\u001b[1;32m     68\u001b[0m     \u001b[0;31m# Running inside `run_distribute_coordinator` already.\u001b[0m\u001b[0;34m\u001b[0m\u001b[0;34m\u001b[0m\u001b[0;34m\u001b[0m\u001b[0m\n",
            "\u001b[0;32m/usr/local/lib/python3.6/dist-packages/tensorflow/python/keras/engine/training.py\u001b[0m in \u001b[0;36mfit\u001b[0;34m(self, x, y, batch_size, epochs, verbose, callbacks, validation_split, validation_data, shuffle, class_weight, sample_weight, initial_epoch, steps_per_epoch, validation_steps, validation_batch_size, validation_freq, max_queue_size, workers, use_multiprocessing)\u001b[0m\n\u001b[1;32m    813\u001b[0m           \u001b[0mworkers\u001b[0m\u001b[0;34m=\u001b[0m\u001b[0mworkers\u001b[0m\u001b[0;34m,\u001b[0m\u001b[0;34m\u001b[0m\u001b[0;34m\u001b[0m\u001b[0m\n\u001b[1;32m    814\u001b[0m           \u001b[0muse_multiprocessing\u001b[0m\u001b[0;34m=\u001b[0m\u001b[0muse_multiprocessing\u001b[0m\u001b[0;34m,\u001b[0m\u001b[0;34m\u001b[0m\u001b[0;34m\u001b[0m\u001b[0m\n\u001b[0;32m--> 815\u001b[0;31m           model=self)\n\u001b[0m\u001b[1;32m    816\u001b[0m \u001b[0;34m\u001b[0m\u001b[0m\n\u001b[1;32m    817\u001b[0m       \u001b[0;31m# Container that configures and calls `tf.keras.Callback`s.\u001b[0m\u001b[0;34m\u001b[0m\u001b[0;34m\u001b[0m\u001b[0;34m\u001b[0m\u001b[0m\n",
            "\u001b[0;32m/usr/local/lib/python3.6/dist-packages/tensorflow/python/keras/engine/data_adapter.py\u001b[0m in \u001b[0;36m__init__\u001b[0;34m(self, x, y, sample_weight, batch_size, steps_per_epoch, initial_epoch, epochs, shuffle, class_weight, max_queue_size, workers, use_multiprocessing, model)\u001b[0m\n\u001b[1;32m   1097\u001b[0m     \u001b[0mself\u001b[0m\u001b[0;34m.\u001b[0m\u001b[0m_insufficient_data\u001b[0m \u001b[0;34m=\u001b[0m \u001b[0;32mFalse\u001b[0m\u001b[0;34m\u001b[0m\u001b[0;34m\u001b[0m\u001b[0m\n\u001b[1;32m   1098\u001b[0m \u001b[0;34m\u001b[0m\u001b[0m\n\u001b[0;32m-> 1099\u001b[0;31m     \u001b[0madapter_cls\u001b[0m \u001b[0;34m=\u001b[0m \u001b[0mselect_data_adapter\u001b[0m\u001b[0;34m(\u001b[0m\u001b[0mx\u001b[0m\u001b[0;34m,\u001b[0m \u001b[0my\u001b[0m\u001b[0;34m)\u001b[0m\u001b[0;34m\u001b[0m\u001b[0;34m\u001b[0m\u001b[0m\n\u001b[0m\u001b[1;32m   1100\u001b[0m     self._adapter = adapter_cls(\n\u001b[1;32m   1101\u001b[0m         \u001b[0mx\u001b[0m\u001b[0;34m,\u001b[0m\u001b[0;34m\u001b[0m\u001b[0;34m\u001b[0m\u001b[0m\n",
            "\u001b[0;32m/usr/local/lib/python3.6/dist-packages/tensorflow/python/keras/engine/data_adapter.py\u001b[0m in \u001b[0;36mselect_data_adapter\u001b[0;34m(x, y)\u001b[0m\n\u001b[1;32m    961\u001b[0m         \u001b[0;34m\"Failed to find data adapter that can handle \"\u001b[0m\u001b[0;34m\u001b[0m\u001b[0;34m\u001b[0m\u001b[0m\n\u001b[1;32m    962\u001b[0m         \"input: {}, {}\".format(\n\u001b[0;32m--> 963\u001b[0;31m             _type_name(x), _type_name(y)))\n\u001b[0m\u001b[1;32m    964\u001b[0m   \u001b[0;32melif\u001b[0m \u001b[0mlen\u001b[0m\u001b[0;34m(\u001b[0m\u001b[0madapter_cls\u001b[0m\u001b[0;34m)\u001b[0m \u001b[0;34m>\u001b[0m \u001b[0;36m1\u001b[0m\u001b[0;34m:\u001b[0m\u001b[0;34m\u001b[0m\u001b[0;34m\u001b[0m\u001b[0m\n\u001b[1;32m    965\u001b[0m     raise RuntimeError(\n",
            "\u001b[0;31mValueError\u001b[0m: Failed to find data adapter that can handle input: <class 'numpy.ndarray'>, (<class 'list'> containing values of types {'(<class \\'list\\'> containing values of types {\"<class \\'int\\'>\"})'})"
          ]
        }
      ]
    },
    {
      "cell_type": "code",
      "metadata": {
        "colab_type": "code",
        "id": "dQ0BX2apXS9u",
        "colab": {}
      },
      "source": [
        "import matplotlib.pyplot as plt\n",
        "\n",
        "\n",
        "def plot_graphs(history, string):\n",
        "  plt.plot(history.history[string])\n",
        "  plt.plot(history.history['val_'+string])\n",
        "  plt.xlabel(\"Epochs\")\n",
        "  plt.ylabel(string)\n",
        "  plt.legend([string, 'val_'+string])\n",
        "  plt.show()\n",
        "  \n",
        "plot_graphs(history, \"acc\")\n",
        "plot_graphs(history, \"loss\")"
      ],
      "execution_count": null,
      "outputs": []
    },
    {
      "cell_type": "code",
      "metadata": {
        "colab_type": "code",
        "id": "w7Xc-uWxXhML",
        "colab": {}
      },
      "source": [
        "reverse_word_index = dict([(value, key) for (key, value) in word_index.items()])\n",
        "\n",
        "def decode_sentence(text):\n",
        "    return ' '.join([reverse_word_index.get(i, '?') for i in text])\n"
      ],
      "execution_count": null,
      "outputs": []
    },
    {
      "cell_type": "code",
      "metadata": {
        "colab_type": "code",
        "id": "OhnFA_TDXrih",
        "colab": {}
      },
      "source": [
        "e = model.layers[0]\n",
        "weights = e.get_weights()[0]\n",
        "print(weights.shape) # shape: (vocab_size, embedding_dim)\n",
        "\n",
        "# Expected output\n",
        "# (1000, 16)"
      ],
      "execution_count": null,
      "outputs": []
    },
    {
      "cell_type": "code",
      "metadata": {
        "colab_type": "code",
        "id": "_POzcWWAXudL",
        "colab": {}
      },
      "source": [
        "import io\n",
        "\n",
        "out_v = io.open('vecs.tsv', 'w', encoding='utf-8')\n",
        "out_m = io.open('meta.tsv', 'w', encoding='utf-8')\n",
        "for word_num in range(1, vocab_size):\n",
        "  word = reverse_word_index[word_num]\n",
        "  embeddings = weights[word_num]\n",
        "  out_m.write(word + \"\\n\")\n",
        "  out_v.write('\\t'.join([str(x) for x in embeddings]) + \"\\n\")\n",
        "out_v.close()\n",
        "out_m.close()"
      ],
      "execution_count": null,
      "outputs": []
    },
    {
      "cell_type": "code",
      "metadata": {
        "colab_type": "code",
        "id": "VmqpQMZ_XyOa",
        "colab": {}
      },
      "source": [
        "try:\n",
        "  from google.colab import files\n",
        "except ImportError:\n",
        "  pass\n",
        "else:\n",
        "  files.download('vecs.tsv')\n",
        "  files.download('meta.tsv')"
      ],
      "execution_count": null,
      "outputs": []
    }
  ]
}